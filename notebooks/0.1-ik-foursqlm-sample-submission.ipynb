{
 "cells": [
  {
   "cell_type": "code",
   "execution_count": null,
   "id": "266adab5",
   "metadata": {
    "_cell_guid": "b1076dfc-b9ad-4769-8c92-a6c4dae69d19",
    "_uuid": "8f2839f25d086af736a60e9eeb907d3b93b6e0e5",
    "execution": {
     "iopub.execute_input": "2022-04-25T09:02:48.625972Z",
     "iopub.status.busy": "2022-04-25T09:02:48.625011Z",
     "iopub.status.idle": "2022-04-25T09:02:48.640779Z",
     "shell.execute_reply": "2022-04-25T09:02:48.639356Z"
    },
    "papermill": {
     "duration": 0.026781,
     "end_time": "2022-04-25T09:02:48.643099",
     "exception": false,
     "start_time": "2022-04-25T09:02:48.616318",
     "status": "completed"
    },
    "tags": []
   },
   "outputs": [
    {
     "ename": "",
     "evalue": "",
     "output_type": "error",
     "traceback": [
      "\u001b[1;31mRunning cells with 'Python 3.9.5 ('.venv': venv)' requires ipykernel package.\n",
      "Run the following command to install 'ipykernel' into the Python environment. \n",
      "Command: 'c:/Users/ieklein/MyProjects/mlops-23reg-project/.venv/Scripts/python.exe -m pip install ipykernel -U --force-reinstall'"
     ]
    }
   ],
   "source": [
    "# This Python 3 environment comes with many helpful analytics libraries installed\n",
    "# It is defined by the kaggle/python Docker image: https://github.com/kaggle/docker-python\n",
    "# For example, here's several helpful packages to load\n",
    "\n",
    "import numpy as np  # linear algebra\n",
    "import pandas as pd  # data processing, CSV file I/O (e.g. pd.read_csv)\n",
    "\n",
    "# Input data files are available in the read-only \"../input/\" directory\n",
    "# For example, running this (by clicking run or pressing Shift+Enter) will list all files under the input directory\n",
    "\n",
    "import os\n",
    "\n",
    "for dirname, _, filenames in os.walk(\"/kaggle/input\"):\n",
    "    for filename in filenames:\n",
    "        print(os.path.join(dirname, filename))\n",
    "\n",
    "# You can write up to 20GB to the current directory (/kaggle/working/) that gets preserved as output when you create a version using \"Save & Run All\"\n",
    "# You can also write temporary files to /kaggle/temp/, but they won't be saved outside of the current session\n"
   ]
  },
  {
   "cell_type": "code",
   "execution_count": null,
   "id": "aa62375f",
   "metadata": {
    "execution": {
     "iopub.execute_input": "2022-04-25T09:02:48.659453Z",
     "iopub.status.busy": "2022-04-25T09:02:48.659108Z",
     "iopub.status.idle": "2022-04-25T09:02:48.692576Z",
     "shell.execute_reply": "2022-04-25T09:02:48.692053Z"
    },
    "papermill": {
     "duration": 0.044296,
     "end_time": "2022-04-25T09:02:48.694952",
     "exception": false,
     "start_time": "2022-04-25T09:02:48.650656",
     "status": "completed"
    },
    "tags": []
   },
   "outputs": [
    {
     "ename": "",
     "evalue": "",
     "output_type": "error",
     "traceback": [
      "\u001b[1;31mRunning cells with 'Python 3.9.5 ('.venv': venv)' requires ipykernel package.\n",
      "Run the following command to install 'ipykernel' into the Python environment. \n",
      "Command: 'c:/Users/ieklein/MyProjects/mlops-23reg-project/.venv/Scripts/python.exe -m pip install ipykernel -U --force-reinstall'"
     ]
    }
   ],
   "source": [
    "test = pd.read_csv(\"/kaggle/input/foursquare-location-matching/test.csv\")\n",
    "test\n"
   ]
  },
  {
   "cell_type": "code",
   "execution_count": null,
   "id": "687944d9",
   "metadata": {
    "execution": {
     "iopub.execute_input": "2022-04-25T09:02:48.711968Z",
     "iopub.status.busy": "2022-04-25T09:02:48.711195Z",
     "iopub.status.idle": "2022-04-25T09:02:48.724416Z",
     "shell.execute_reply": "2022-04-25T09:02:48.723848Z"
    },
    "papermill": {
     "duration": 0.02382,
     "end_time": "2022-04-25T09:02:48.726366",
     "exception": false,
     "start_time": "2022-04-25T09:02:48.702546",
     "status": "completed"
    },
    "tags": []
   },
   "outputs": [
    {
     "ename": "",
     "evalue": "",
     "output_type": "error",
     "traceback": [
      "\u001b[1;31mRunning cells with 'Python 3.9.5 ('.venv': venv)' requires ipykernel package.\n",
      "Run the following command to install 'ipykernel' into the Python environment. \n",
      "Command: 'c:/Users/ieklein/MyProjects/mlops-23reg-project/.venv/Scripts/python.exe -m pip install ipykernel -U --force-reinstall'"
     ]
    }
   ],
   "source": [
    "# несколько значений в matches должны быть разделены пробелами\n",
    "submission = pd.DataFrame({\"id\": test.id, \"matches\": test.id})\n",
    "submission\n"
   ]
  },
  {
   "cell_type": "code",
   "execution_count": null,
   "id": "7af73c96",
   "metadata": {
    "execution": {
     "iopub.execute_input": "2022-04-25T09:02:48.740609Z",
     "iopub.status.busy": "2022-04-25T09:02:48.739919Z",
     "iopub.status.idle": "2022-04-25T09:02:48.747547Z",
     "shell.execute_reply": "2022-04-25T09:02:48.746751Z"
    },
    "papermill": {
     "duration": 0.016669,
     "end_time": "2022-04-25T09:02:48.749440",
     "exception": false,
     "start_time": "2022-04-25T09:02:48.732771",
     "status": "completed"
    },
    "tags": []
   },
   "outputs": [
    {
     "ename": "",
     "evalue": "",
     "output_type": "error",
     "traceback": [
      "\u001b[1;31mRunning cells with 'Python 3.9.5 ('.venv': venv)' requires ipykernel package.\n",
      "Run the following command to install 'ipykernel' into the Python environment. \n",
      "Command: 'c:/Users/ieklein/MyProjects/mlops-23reg-project/.venv/Scripts/python.exe -m pip install ipykernel -U --force-reinstall'"
     ]
    }
   ],
   "source": [
    "submission.to_csv(\"submission.csv\", index=False)\n"
   ]
  }
 ],
 "metadata": {
  "kernelspec": {
   "display_name": "Python 3",
   "language": "python",
   "name": "python3"
  },
  "language_info": {
   "codemirror_mode": {
    "name": "ipython",
    "version": 3
   },
   "file_extension": ".py",
   "mimetype": "text/x-python",
   "name": "python",
   "nbconvert_exporter": "python",
   "pygments_lexer": "ipython3",
   "version": "3.9.5"
  },
  "papermill": {
   "default_parameters": {},
   "duration": 11.099802,
   "end_time": "2022-04-25T09:02:49.576057",
   "environment_variables": {},
   "exception": null,
   "input_path": "__notebook__.ipynb",
   "output_path": "__notebook__.ipynb",
   "parameters": {},
   "start_time": "2022-04-25T09:02:38.476255",
   "version": "2.3.4"
  }
 },
 "nbformat": 4,
 "nbformat_minor": 5
}
