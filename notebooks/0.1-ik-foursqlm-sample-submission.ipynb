{
 "cells": [
  {
   "cell_type": "code",
   "execution_count": 1,
   "id": "266adab5",
   "metadata": {
    "_cell_guid": "b1076dfc-b9ad-4769-8c92-a6c4dae69d19",
    "_uuid": "8f2839f25d086af736a60e9eeb907d3b93b6e0e5",
    "execution": {
     "iopub.execute_input": "2022-04-25T09:02:48.625972Z",
     "iopub.status.busy": "2022-04-25T09:02:48.625011Z",
     "iopub.status.idle": "2022-04-25T09:02:48.640779Z",
     "shell.execute_reply": "2022-04-25T09:02:48.639356Z"
    },
    "papermill": {
     "duration": 0.026781,
     "end_time": "2022-04-25T09:02:48.643099",
     "exception": false,
     "start_time": "2022-04-25T09:02:48.616318",
     "status": "completed"
    },
    "tags": []
   },
   "outputs": [
    {
     "name": "stdout",
     "output_type": "stream",
     "text": [
      "/kaggle/input/foursquare-location-matching/sample_submission.csv\n",
      "/kaggle/input/foursquare-location-matching/pairs.csv\n",
      "/kaggle/input/foursquare-location-matching/train.csv\n",
      "/kaggle/input/foursquare-location-matching/test.csv\n"
     ]
    }
   ],
   "source": [
    "# This Python 3 environment comes with many helpful analytics libraries installed\n",
    "# It is defined by the kaggle/python Docker image: https://github.com/kaggle/docker-python\n",
    "# For example, here's several helpful packages to load\n",
    "\n",
    "import numpy as np # linear algebra\n",
    "import pandas as pd # data processing, CSV file I/O (e.g. pd.read_csv)\n",
    "\n",
    "# Input data files are available in the read-only \"../input/\" directory\n",
    "# For example, running this (by clicking run or pressing Shift+Enter) will list all files under the input directory\n",
    "\n",
    "import os\n",
    "for dirname, _, filenames in os.walk('/kaggle/input'):\n",
    "    for filename in filenames:\n",
    "        print(os.path.join(dirname, filename))\n",
    "\n",
    "# You can write up to 20GB to the current directory (/kaggle/working/) that gets preserved as output when you create a version using \"Save & Run All\" \n",
    "# You can also write temporary files to /kaggle/temp/, but they won't be saved outside of the current session"
   ]
  },
  {
   "cell_type": "code",
   "execution_count": 2,
   "id": "aa62375f",
   "metadata": {
    "execution": {
     "iopub.execute_input": "2022-04-25T09:02:48.659453Z",
     "iopub.status.busy": "2022-04-25T09:02:48.659108Z",
     "iopub.status.idle": "2022-04-25T09:02:48.692576Z",
     "shell.execute_reply": "2022-04-25T09:02:48.692053Z"
    },
    "papermill": {
     "duration": 0.044296,
     "end_time": "2022-04-25T09:02:48.694952",
     "exception": false,
     "start_time": "2022-04-25T09:02:48.650656",
     "status": "completed"
    },
    "tags": []
   },
   "outputs": [
    {
     "data": {
      "text/html": [
       "<div>\n",
       "<style scoped>\n",
       "    .dataframe tbody tr th:only-of-type {\n",
       "        vertical-align: middle;\n",
       "    }\n",
       "\n",
       "    .dataframe tbody tr th {\n",
       "        vertical-align: top;\n",
       "    }\n",
       "\n",
       "    .dataframe thead th {\n",
       "        text-align: right;\n",
       "    }\n",
       "</style>\n",
       "<table border=\"1\" class=\"dataframe\">\n",
       "  <thead>\n",
       "    <tr style=\"text-align: right;\">\n",
       "      <th></th>\n",
       "      <th>id</th>\n",
       "      <th>name</th>\n",
       "      <th>latitude</th>\n",
       "      <th>longitude</th>\n",
       "      <th>address</th>\n",
       "      <th>city</th>\n",
       "      <th>state</th>\n",
       "      <th>zip</th>\n",
       "      <th>country</th>\n",
       "      <th>url</th>\n",
       "      <th>phone</th>\n",
       "      <th>categories</th>\n",
       "    </tr>\n",
       "  </thead>\n",
       "  <tbody>\n",
       "    <tr>\n",
       "      <th>0</th>\n",
       "      <td>E_00001118ad0191</td>\n",
       "      <td>Jamu Petani Bagan Serai</td>\n",
       "      <td>5.012169</td>\n",
       "      <td>100.535805</td>\n",
       "      <td>NaN</td>\n",
       "      <td>NaN</td>\n",
       "      <td>NaN</td>\n",
       "      <td>NaN</td>\n",
       "      <td>MY</td>\n",
       "      <td>NaN</td>\n",
       "      <td>NaN</td>\n",
       "      <td>Cafés</td>\n",
       "    </tr>\n",
       "    <tr>\n",
       "      <th>1</th>\n",
       "      <td>E_000020eb6fed40</td>\n",
       "      <td>Johnny's Bar</td>\n",
       "      <td>40.434209</td>\n",
       "      <td>-80.564160</td>\n",
       "      <td>497 N 12th St</td>\n",
       "      <td>Weirton</td>\n",
       "      <td>WV</td>\n",
       "      <td>26062.0</td>\n",
       "      <td>US</td>\n",
       "      <td>NaN</td>\n",
       "      <td>NaN</td>\n",
       "      <td>Bars</td>\n",
       "    </tr>\n",
       "    <tr>\n",
       "      <th>2</th>\n",
       "      <td>E_00002f98667edf</td>\n",
       "      <td>QIWI</td>\n",
       "      <td>47.215134</td>\n",
       "      <td>39.686088</td>\n",
       "      <td>Межевая улица, 60</td>\n",
       "      <td>Ростов-на-Дону</td>\n",
       "      <td>NaN</td>\n",
       "      <td>NaN</td>\n",
       "      <td>RU</td>\n",
       "      <td>https://qiwi.com</td>\n",
       "      <td>7.800301e+10</td>\n",
       "      <td>ATMs</td>\n",
       "    </tr>\n",
       "    <tr>\n",
       "      <th>3</th>\n",
       "      <td>E_001b6bad66eb98</td>\n",
       "      <td>Gelora Sriwijaya, Jaka Baring Sport City</td>\n",
       "      <td>-3.014675</td>\n",
       "      <td>104.794374</td>\n",
       "      <td>NaN</td>\n",
       "      <td>NaN</td>\n",
       "      <td>NaN</td>\n",
       "      <td>NaN</td>\n",
       "      <td>ID</td>\n",
       "      <td>NaN</td>\n",
       "      <td>NaN</td>\n",
       "      <td>Stadiums</td>\n",
       "    </tr>\n",
       "    <tr>\n",
       "      <th>4</th>\n",
       "      <td>E_0283d9f61e569d</td>\n",
       "      <td>Stadion Gelora Sriwijaya</td>\n",
       "      <td>-3.021727</td>\n",
       "      <td>104.788628</td>\n",
       "      <td>Jalan Gubernur Hasan Bastari</td>\n",
       "      <td>Palembang</td>\n",
       "      <td>South Sumatra</td>\n",
       "      <td>11480.0</td>\n",
       "      <td>ID</td>\n",
       "      <td>NaN</td>\n",
       "      <td>NaN</td>\n",
       "      <td>Soccer Stadiums</td>\n",
       "    </tr>\n",
       "  </tbody>\n",
       "</table>\n",
       "</div>"
      ],
      "text/plain": [
       "                 id                                      name   latitude  \\\n",
       "0  E_00001118ad0191                   Jamu Petani Bagan Serai   5.012169   \n",
       "1  E_000020eb6fed40                              Johnny's Bar  40.434209   \n",
       "2  E_00002f98667edf                                      QIWI  47.215134   \n",
       "3  E_001b6bad66eb98  Gelora Sriwijaya, Jaka Baring Sport City  -3.014675   \n",
       "4  E_0283d9f61e569d                  Stadion Gelora Sriwijaya  -3.021727   \n",
       "\n",
       "    longitude                       address            city          state  \\\n",
       "0  100.535805                           NaN             NaN            NaN   \n",
       "1  -80.564160                 497 N 12th St         Weirton             WV   \n",
       "2   39.686088             Межевая улица, 60  Ростов-на-Дону            NaN   \n",
       "3  104.794374                           NaN             NaN            NaN   \n",
       "4  104.788628  Jalan Gubernur Hasan Bastari       Palembang  South Sumatra   \n",
       "\n",
       "       zip country               url         phone       categories  \n",
       "0      NaN      MY               NaN           NaN            Cafés  \n",
       "1  26062.0      US               NaN           NaN             Bars  \n",
       "2      NaN      RU  https://qiwi.com  7.800301e+10             ATMs  \n",
       "3      NaN      ID               NaN           NaN         Stadiums  \n",
       "4  11480.0      ID               NaN           NaN  Soccer Stadiums  "
      ]
     },
     "execution_count": 2,
     "metadata": {},
     "output_type": "execute_result"
    }
   ],
   "source": [
    "test = pd.read_csv('/kaggle/input/foursquare-location-matching/test.csv')\n",
    "test"
   ]
  },
  {
   "cell_type": "code",
   "execution_count": 3,
   "id": "687944d9",
   "metadata": {
    "execution": {
     "iopub.execute_input": "2022-04-25T09:02:48.711968Z",
     "iopub.status.busy": "2022-04-25T09:02:48.711195Z",
     "iopub.status.idle": "2022-04-25T09:02:48.724416Z",
     "shell.execute_reply": "2022-04-25T09:02:48.723848Z"
    },
    "papermill": {
     "duration": 0.02382,
     "end_time": "2022-04-25T09:02:48.726366",
     "exception": false,
     "start_time": "2022-04-25T09:02:48.702546",
     "status": "completed"
    },
    "tags": []
   },
   "outputs": [
    {
     "data": {
      "text/html": [
       "<div>\n",
       "<style scoped>\n",
       "    .dataframe tbody tr th:only-of-type {\n",
       "        vertical-align: middle;\n",
       "    }\n",
       "\n",
       "    .dataframe tbody tr th {\n",
       "        vertical-align: top;\n",
       "    }\n",
       "\n",
       "    .dataframe thead th {\n",
       "        text-align: right;\n",
       "    }\n",
       "</style>\n",
       "<table border=\"1\" class=\"dataframe\">\n",
       "  <thead>\n",
       "    <tr style=\"text-align: right;\">\n",
       "      <th></th>\n",
       "      <th>id</th>\n",
       "      <th>matches</th>\n",
       "    </tr>\n",
       "  </thead>\n",
       "  <tbody>\n",
       "    <tr>\n",
       "      <th>0</th>\n",
       "      <td>E_00001118ad0191</td>\n",
       "      <td>E_00001118ad0191</td>\n",
       "    </tr>\n",
       "    <tr>\n",
       "      <th>1</th>\n",
       "      <td>E_000020eb6fed40</td>\n",
       "      <td>E_000020eb6fed40</td>\n",
       "    </tr>\n",
       "    <tr>\n",
       "      <th>2</th>\n",
       "      <td>E_00002f98667edf</td>\n",
       "      <td>E_00002f98667edf</td>\n",
       "    </tr>\n",
       "    <tr>\n",
       "      <th>3</th>\n",
       "      <td>E_001b6bad66eb98</td>\n",
       "      <td>E_001b6bad66eb98</td>\n",
       "    </tr>\n",
       "    <tr>\n",
       "      <th>4</th>\n",
       "      <td>E_0283d9f61e569d</td>\n",
       "      <td>E_0283d9f61e569d</td>\n",
       "    </tr>\n",
       "  </tbody>\n",
       "</table>\n",
       "</div>"
      ],
      "text/plain": [
       "                 id           matches\n",
       "0  E_00001118ad0191  E_00001118ad0191\n",
       "1  E_000020eb6fed40  E_000020eb6fed40\n",
       "2  E_00002f98667edf  E_00002f98667edf\n",
       "3  E_001b6bad66eb98  E_001b6bad66eb98\n",
       "4  E_0283d9f61e569d  E_0283d9f61e569d"
      ]
     },
     "execution_count": 3,
     "metadata": {},
     "output_type": "execute_result"
    }
   ],
   "source": [
    "#несколько значений в matches должны быть разделены пробелами\n",
    "submission = pd.DataFrame({'id': test.id, 'matches': test.id})\n",
    "submission"
   ]
  },
  {
   "cell_type": "code",
   "execution_count": 4,
   "id": "7af73c96",
   "metadata": {
    "execution": {
     "iopub.execute_input": "2022-04-25T09:02:48.740609Z",
     "iopub.status.busy": "2022-04-25T09:02:48.739919Z",
     "iopub.status.idle": "2022-04-25T09:02:48.747547Z",
     "shell.execute_reply": "2022-04-25T09:02:48.746751Z"
    },
    "papermill": {
     "duration": 0.016669,
     "end_time": "2022-04-25T09:02:48.749440",
     "exception": false,
     "start_time": "2022-04-25T09:02:48.732771",
     "status": "completed"
    },
    "tags": []
   },
   "outputs": [],
   "source": [
    "submission.to_csv(\"submission.csv\", index=False)"
   ]
  }
 ],
 "metadata": {
  "kernelspec": {
   "display_name": "Python 3",
   "language": "python",
   "name": "python3"
  },
  "language_info": {
   "codemirror_mode": {
    "name": "ipython",
    "version": 3
   },
   "file_extension": ".py",
   "mimetype": "text/x-python",
   "name": "python",
   "nbconvert_exporter": "python",
   "pygments_lexer": "ipython3",
   "version": "3.7.12"
  },
  "papermill": {
   "default_parameters": {},
   "duration": 11.099802,
   "end_time": "2022-04-25T09:02:49.576057",
   "environment_variables": {},
   "exception": null,
   "input_path": "__notebook__.ipynb",
   "output_path": "__notebook__.ipynb",
   "parameters": {},
   "start_time": "2022-04-25T09:02:38.476255",
   "version": "2.3.4"
  }
 },
 "nbformat": 4,
 "nbformat_minor": 5
}
